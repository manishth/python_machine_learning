{
 "cells": [
  {
   "cell_type": "code",
   "execution_count": 31,
   "metadata": {
    "collapsed": true
   },
   "outputs": [],
   "source": [
    "import os\n",
    "import io\n",
    "import numpy as np\n",
    "import pandas as pd\n",
    "from sklearn.feature_extraction.text import CountVectorizer\n",
    "from sklearn.naive_bayes import MultinomialNB"
   ]
  },
  {
   "cell_type": "code",
   "execution_count": 32,
   "metadata": {
    "collapsed": true
   },
   "outputs": [],
   "source": [
    "def readFiles(path):\n",
    "    for root, dirnames, filenames in os.walk(path):\n",
    "        for filename in filenames:\n",
    "            path = os.path.join(root, filename)\n",
    "            \n",
    "            inBody = False\n",
    "            lines = []\n",
    "            f = io.open(path, 'r', encoding='latin1')\n",
    "            for line in f:\n",
    "                if inBody:\n",
    "                    lines.append(line)\n",
    "                elif line == '\\n':\n",
    "                    inBody = True\n",
    "            f.close()\n",
    "            message = \"\\n\".join(lines)\n",
    "            yield path, message"
   ]
  },
  {
   "cell_type": "code",
   "execution_count": 33,
   "metadata": {
    "collapsed": true
   },
   "outputs": [],
   "source": [
    "def dataFrameFromDirectory(path, classification):\n",
    "    rows = []\n",
    "    index = []\n",
    "    for filename, message in readFiles(path):\n",
    "        rows.append({'message': message, 'class': classification})\n",
    "        index.append(filename)\n",
    "    \n",
    "    return pd.DataFrame(rows, index=index)"
   ]
  },
  {
   "cell_type": "code",
   "execution_count": 34,
   "metadata": {
    "collapsed": true
   },
   "outputs": [],
   "source": [
    "df = pd.DataFrame({'message': [], 'class': []})"
   ]
  },
  {
   "cell_type": "code",
   "execution_count": 35,
   "metadata": {
    "collapsed": false
   },
   "outputs": [],
   "source": [
    "df = df.append(dataFrameFromDirectory('/home/cn87/machine learning/DataScience/emails/spam', 'spam'))\n",
    "df = df.append(dataFrameFromDirectory('/home/cn87/machine learning/DataScience/emails/ham', 'ham'))"
   ]
  },
  {
   "cell_type": "code",
   "execution_count": 36,
   "metadata": {
    "collapsed": false
   },
   "outputs": [
    {
     "data": {
      "text/html": [
       "<div>\n",
       "<table border=\"1\" class=\"dataframe\">\n",
       "  <thead>\n",
       "    <tr style=\"text-align: right;\">\n",
       "      <th></th>\n",
       "      <th>class</th>\n",
       "      <th>message</th>\n",
       "    </tr>\n",
       "  </thead>\n",
       "  <tbody>\n",
       "    <tr>\n",
       "      <th>/home/cn87/machine learning/DataScience/emails/spam/00414.b2312673ca5358901c801eb44c00e310</th>\n",
       "      <td>spam</td>\n",
       "      <td>&lt;HTML&gt;\\n\\n&lt;PRE&gt;\\n\\nDear Valued Member,\\n\\n\\n\\n...</td>\n",
       "    </tr>\n",
       "    <tr>\n",
       "      <th>/home/cn87/machine learning/DataScience/emails/spam/00438.41295e1df4b651b7611316331b8468e4</th>\n",
       "      <td>spam</td>\n",
       "      <td>Dear Homeowner,\\n\\n \\n\\nInterest Rates are at ...</td>\n",
       "    </tr>\n",
       "    <tr>\n",
       "      <th>/home/cn87/machine learning/DataScience/emails/spam/00469.ee3b2f31459cc2ec43ae7cae00d40cf6</th>\n",
       "      <td>spam</td>\n",
       "      <td>Lowest rates available for term life insurance...</td>\n",
       "    </tr>\n",
       "    <tr>\n",
       "      <th>/home/cn87/machine learning/DataScience/emails/spam/00213.8c42a1c257aa30ff3b3ba668cca59408</th>\n",
       "      <td>spam</td>\n",
       "      <td>&lt;p&gt;We thank you for just a moment of your tim...</td>\n",
       "    </tr>\n",
       "    <tr>\n",
       "      <th>/home/cn87/machine learning/DataScience/emails/spam/00226.e0e2704cde3bbd561a98042f4a3baf5f</th>\n",
       "      <td>spam</td>\n",
       "      <td>Dear Sir or Madam,\\n\\n\\n\\nMy name is Petr Stan...</td>\n",
       "    </tr>\n",
       "  </tbody>\n",
       "</table>\n",
       "</div>"
      ],
      "text/plain": [
       "                                                   class  \\\n",
       "/home/cn87/machine learning/DataScience/emails/...  spam   \n",
       "/home/cn87/machine learning/DataScience/emails/...  spam   \n",
       "/home/cn87/machine learning/DataScience/emails/...  spam   \n",
       "/home/cn87/machine learning/DataScience/emails/...  spam   \n",
       "/home/cn87/machine learning/DataScience/emails/...  spam   \n",
       "\n",
       "                                                                                              message  \n",
       "/home/cn87/machine learning/DataScience/emails/...  <HTML>\\n\\n<PRE>\\n\\nDear Valued Member,\\n\\n\\n\\n...  \n",
       "/home/cn87/machine learning/DataScience/emails/...  Dear Homeowner,\\n\\n \\n\\nInterest Rates are at ...  \n",
       "/home/cn87/machine learning/DataScience/emails/...  Lowest rates available for term life insurance...  \n",
       "/home/cn87/machine learning/DataScience/emails/...   <p>We thank you for just a moment of your tim...  \n",
       "/home/cn87/machine learning/DataScience/emails/...  Dear Sir or Madam,\\n\\n\\n\\nMy name is Petr Stan...  "
      ]
     },
     "execution_count": 36,
     "metadata": {},
     "output_type": "execute_result"
    }
   ],
   "source": [
    "df.head()"
   ]
  },
  {
   "cell_type": "markdown",
   "metadata": {},
   "source": [
    "Now we will use a CountVectorizer to split up each message into its list of words, and throw that into a MultinomialNB classifier. Call fit() and we've got a trained spam filter ready"
   ]
  },
  {
   "cell_type": "code",
   "execution_count": 37,
   "metadata": {
    "collapsed": true
   },
   "outputs": [],
   "source": [
    "vectorizer = CountVectorizer()\n",
    "counts = vectorizer.fit_transform(df[\"message\"].values)"
   ]
  },
  {
   "cell_type": "code",
   "execution_count": 38,
   "metadata": {
    "collapsed": false
   },
   "outputs": [
    {
     "data": {
      "text/plain": [
       "MultinomialNB(alpha=1.0, class_prior=None, fit_prior=True)"
      ]
     },
     "execution_count": 38,
     "metadata": {},
     "output_type": "execute_result"
    }
   ],
   "source": [
    "model = MultinomialNB()\n",
    "target = df[\"class\"].values\n",
    "model.fit(counts, target)"
   ]
  },
  {
   "cell_type": "markdown",
   "metadata": {},
   "source": [
    "Let's test this model out"
   ]
  },
  {
   "cell_type": "code",
   "execution_count": 41,
   "metadata": {
    "collapsed": false
   },
   "outputs": [
    {
     "data": {
      "text/plain": [
       "array(['spam', 'ham'], \n",
       "      dtype='<U4')"
      ]
     },
     "execution_count": 41,
     "metadata": {},
     "output_type": "execute_result"
    }
   ],
   "source": [
    "example_email_content = [\"Free insurance now!!!\", \"Hi Manish, let's meet tomorrow\"]\n",
    "example_email_content_counts = vectorizer.transform(example_email_content)\n",
    "prediction = model.predict(example_email_content_counts)\n",
    "prediction"
   ]
  }
 ],
 "metadata": {
  "kernelspec": {
   "display_name": "Python 3",
   "language": "python",
   "name": "python3"
  },
  "language_info": {
   "codemirror_mode": {
    "name": "ipython",
    "version": 3
   },
   "file_extension": ".py",
   "mimetype": "text/x-python",
   "name": "python",
   "nbconvert_exporter": "python",
   "pygments_lexer": "ipython3",
   "version": "3.6.0"
  }
 },
 "nbformat": 4,
 "nbformat_minor": 2
}
